{
 "cells": [
  {
   "cell_type": "markdown",
   "id": "1662b168",
   "metadata": {},
   "source": [
    "# Session 2 Basic of Python"
   ]
  },
  {
   "cell_type": "markdown",
   "id": "574ebef1",
   "metadata": {},
   "source": [
    "## Table of contents\n",
    "\n",
    "* [Optional arguments to the print function](#Optional_arguments_to_print)\n",
    "* [Operators and Math formulas](#opt_math_formulas)\n",
    "* [Python Modules](#python_modules)\n",
    "* [Conditional Statements](#con_stmnt)\n",
    "* [Loops](#loops)\n",
    "* [Lists](#lists)\n",
    "* [Tuples](#tuples)\n",
    "* [Sets](#sets)"
   ]
  },
  {
   "cell_type": "markdown",
   "id": "908bf91d",
   "metadata": {},
   "source": []
  },
  {
   "cell_type": "code",
   "execution_count": 77,
   "id": "633ba302",
   "metadata": {},
   "outputs": [
    {
     "name": "stdout",
     "output_type": "stream",
     "text": [
      "1 2 3 4 5\n"
     ]
    }
   ],
   "source": [
    "print(1,2,3,4,5)"
   ]
  },
  {
   "cell_type": "code",
   "execution_count": 78,
   "id": "862f6f55",
   "metadata": {},
   "outputs": [
    {
     "name": "stdout",
     "output_type": "stream",
     "text": [
      "1 2 3 4 5\n"
     ]
    }
   ],
   "source": [
    "print(1, 2, 3, 4, 5)"
   ]
  },
  {
   "cell_type": "code",
   "execution_count": 79,
   "id": "7685a3d9",
   "metadata": {},
   "outputs": [
    {
     "name": "stdout",
     "output_type": "stream",
     "text": [
      "12345\n"
     ]
    }
   ],
   "source": [
    "print(1, 2, 3, 4, 5, sep='')"
   ]
  },
  {
   "cell_type": "code",
   "execution_count": 80,
   "id": "fe328fb0",
   "metadata": {},
   "outputs": [
    {
     "name": "stdout",
     "output_type": "stream",
     "text": [
      "1/2/3/4/5\n"
     ]
    }
   ],
   "source": [
    "print(1, 2, 3, 4, 5, sep='/')"
   ]
  },
  {
   "cell_type": "code",
   "execution_count": 81,
   "id": "15d8e64b",
   "metadata": {},
   "outputs": [
    {
     "name": "stdout",
     "output_type": "stream",
     "text": [
      "1\n",
      "2\n",
      "3\n",
      "4\n",
      "5\n"
     ]
    }
   ],
   "source": [
    "print(1, 2, 3, 4, 5, sep='\\n')"
   ]
  },
  {
   "cell_type": "code",
   "execution_count": 82,
   "id": "445d58dc",
   "metadata": {},
   "outputs": [
    {
     "name": "stdout",
     "output_type": "stream",
     "text": [
      "5 2\n"
     ]
    }
   ],
   "source": [
    "a,b=2,5\n",
    "a,b= b,a\n",
    "print(a,b)"
   ]
  },
  {
   "cell_type": "code",
   "execution_count": 83,
   "id": "89693d95",
   "metadata": {},
   "outputs": [],
   "source": [
    "def Fun(): #Function Definition without parameter, without return type\n",
    "  a=5  #define a\n",
    "  b=6 #define b\n",
    "  print(a+b) #print"
   ]
  },
  {
   "cell_type": "code",
   "execution_count": 84,
   "id": "9dfaadfb",
   "metadata": {},
   "outputs": [
    {
     "name": "stdout",
     "output_type": "stream",
     "text": [
      "11\n"
     ]
    }
   ],
   "source": [
    "Fun() #function call"
   ]
  },
  {
   "cell_type": "code",
   "execution_count": 85,
   "id": "ebfe521a",
   "metadata": {},
   "outputs": [],
   "source": [
    "def Fun2(a,b): #Function Definition with parameter and without return type\n",
    "  print(a+b) #print"
   ]
  },
  {
   "cell_type": "code",
   "execution_count": 86,
   "id": "bdec5e04",
   "metadata": {},
   "outputs": [
    {
     "name": "stdout",
     "output_type": "stream",
     "text": [
      "15\n"
     ]
    }
   ],
   "source": [
    "Fun2(6,9) #function call"
   ]
  },
  {
   "cell_type": "code",
   "execution_count": 87,
   "id": "b5d47de9",
   "metadata": {},
   "outputs": [],
   "source": [
    "def Fun3(a,b): #Function Definition with parameter and with return type\n",
    "  return a+b #Return the result"
   ]
  },
  {
   "cell_type": "code",
   "execution_count": 88,
   "id": "15cc5b3d",
   "metadata": {},
   "outputs": [
    {
     "name": "stdout",
     "output_type": "stream",
     "text": [
      "14\n"
     ]
    }
   ],
   "source": [
    "Result= Fun3(7,7) #Assigning Result of the function\n",
    "print(Result)  #print the result"
   ]
  },
  {
   "cell_type": "code",
   "execution_count": 89,
   "id": "9b2bca97",
   "metadata": {},
   "outputs": [],
   "source": [
    "def Fun4(): #Function Definition without parameter and with return type\n",
    "  a=10 #value\n",
    "  b=50 #value\n",
    "  return a+b #print"
   ]
  },
  {
   "cell_type": "code",
   "execution_count": 90,
   "id": "f65230e3",
   "metadata": {},
   "outputs": [
    {
     "name": "stdout",
     "output_type": "stream",
     "text": [
      "60\n"
     ]
    }
   ],
   "source": [
    "Result= Fun4() #Assigning Result of the function\n",
    "print(Result) #print the result"
   ]
  },
  {
   "cell_type": "code",
   "execution_count": 91,
   "id": "aa1c9cd4",
   "metadata": {},
   "outputs": [],
   "source": [
    "def Fun5(): \n",
    "  \"\"\" This Function is to add two number\n",
    "  Args: no parameter\n",
    "\n",
    "  Returns:\n",
    "      _type_: Integer\n",
    "  \"\"\"\n",
    "  a=2 #value\n",
    "  b=1 #value\n",
    "  return a+b #print"
   ]
  },
  {
   "cell_type": "code",
   "execution_count": 92,
   "id": "ff11d1de",
   "metadata": {},
   "outputs": [
    {
     "name": "stdout",
     "output_type": "stream",
     "text": [
      "Result  3\n"
     ]
    }
   ],
   "source": [
    "Result= Fun5() #Assigning Result of the function\n",
    "print(\"Result \",Result) #print the result"
   ]
  },
  {
   "cell_type": "code",
   "execution_count": 93,
   "id": "a952c79c",
   "metadata": {},
   "outputs": [],
   "source": [
    "def Fun6(): \n",
    "  \"\"\" This FUnction is to return a name\n",
    "  Args: no parameter\n",
    "\n",
    "  Returns:\n",
    "      _type_: String\n",
    "  \"\"\"\n",
    "  name=input(\"Enter the name: \")\n",
    "  return name #print"
   ]
  },
  {
   "cell_type": "code",
   "execution_count": 94,
   "id": "5909dcbe",
   "metadata": {},
   "outputs": [
    {
     "name": "stdout",
     "output_type": "stream",
     "text": [
      "Name:  Asif\n",
      "Name: Asif\n",
      "Name: Asif\n"
     ]
    }
   ],
   "source": [
    "Name=Fun6()\n",
    "print(\"Name: \",Name) #print the result\n",
    "print(\"Name: \"+Name) #print the result\n",
    "print(f\"Name: {Name}\") #print the result"
   ]
  }
 ],
 "metadata": {
  "kernelspec": {
   "display_name": ".venv",
   "language": "python",
   "name": "python3"
  },
  "language_info": {
   "codemirror_mode": {
    "name": "ipython",
    "version": 3
   },
   "file_extension": ".py",
   "mimetype": "text/x-python",
   "name": "python",
   "nbconvert_exporter": "python",
   "pygments_lexer": "ipython3",
   "version": "3.12.10"
  }
 },
 "nbformat": 4,
 "nbformat_minor": 5
}
