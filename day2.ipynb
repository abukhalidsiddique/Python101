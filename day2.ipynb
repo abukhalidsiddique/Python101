{
 "cells": [
  {
   "cell_type": "markdown",
   "id": "1662b168",
   "metadata": {},
   "source": [
    "# Session 2 Basic of Python"
   ]
  },
  {
   "cell_type": "markdown",
   "id": "574ebef1",
   "metadata": {},
   "source": [
    "## Table of contents\n",
    "\n",
    "* [Optional arguments to the print function](#Optional_arguments_to_print)\n",
    "* [Operators and Math formulas](#opt_math_formulas)\n",
    "* [Python Modules](#python_modules)\n",
    "* [Conditional Statements](#con_stmnt)\n",
    "* [Loops](#loops)\n",
    "* [Lists](#lists)\n",
    "* [Tuples](#tuples)\n",
    "* [Sets](#sets)"
   ]
  },
  {
   "cell_type": "markdown",
   "id": "908bf91d",
   "metadata": {},
   "source": []
  },
  {
   "cell_type": "code",
   "execution_count": 2,
   "id": "633ba302",
   "metadata": {},
   "outputs": [
    {
     "name": "stdout",
     "output_type": "stream",
     "text": [
      "1 2 3 4 5\n"
     ]
    }
   ],
   "source": [
    "print(1,2,3,4,5)"
   ]
  },
  {
   "cell_type": "code",
   "execution_count": 3,
   "id": "862f6f55",
   "metadata": {},
   "outputs": [
    {
     "name": "stdout",
     "output_type": "stream",
     "text": [
      "1 2 3 4 5\n"
     ]
    }
   ],
   "source": [
    "print(1, 2, 3, 4, 5)"
   ]
  },
  {
   "cell_type": "code",
   "execution_count": 4,
   "id": "7685a3d9",
   "metadata": {},
   "outputs": [
    {
     "name": "stdout",
     "output_type": "stream",
     "text": [
      "12345\n"
     ]
    }
   ],
   "source": [
    "print(1, 2, 3, 4, 5, sep='')"
   ]
  },
  {
   "cell_type": "code",
   "execution_count": 5,
   "id": "fe328fb0",
   "metadata": {},
   "outputs": [
    {
     "name": "stdout",
     "output_type": "stream",
     "text": [
      "1/2/3/4/5\n"
     ]
    }
   ],
   "source": [
    "print(1, 2, 3, 4, 5, sep='/')"
   ]
  },
  {
   "cell_type": "code",
   "execution_count": 6,
   "id": "15d8e64b",
   "metadata": {},
   "outputs": [
    {
     "name": "stdout",
     "output_type": "stream",
     "text": [
      "1\n",
      "2\n",
      "3\n",
      "4\n",
      "5\n"
     ]
    }
   ],
   "source": [
    "print(1, 2, 3, 4, 5, sep='\\n')"
   ]
  },
  {
   "cell_type": "code",
   "execution_count": 7,
   "id": "445d58dc",
   "metadata": {},
   "outputs": [
    {
     "name": "stdout",
     "output_type": "stream",
     "text": [
      "5 2\n"
     ]
    }
   ],
   "source": [
    "a,b=2,5\n",
    "a,b= b,a\n",
    "print(a,b)"
   ]
  },
  {
   "cell_type": "code",
   "execution_count": 8,
   "id": "89693d95",
   "metadata": {},
   "outputs": [],
   "source": [
    "def Fun(): #Function Definition without parameter, without return type\n",
    "  a=5  #define a\n",
    "  b=6 #define b\n",
    "  print(a+b) #print"
   ]
  },
  {
   "cell_type": "code",
   "execution_count": 9,
   "id": "9dfaadfb",
   "metadata": {},
   "outputs": [
    {
     "name": "stdout",
     "output_type": "stream",
     "text": [
      "11\n"
     ]
    }
   ],
   "source": [
    "Fun() #function call"
   ]
  },
  {
   "cell_type": "code",
   "execution_count": 10,
   "id": "ebfe521a",
   "metadata": {},
   "outputs": [],
   "source": [
    "def Fun2(a,b): #Function Definition with parameter and without return type\n",
    "  print(a+b) #print"
   ]
  },
  {
   "cell_type": "code",
   "execution_count": 11,
   "id": "bdec5e04",
   "metadata": {},
   "outputs": [
    {
     "name": "stdout",
     "output_type": "stream",
     "text": [
      "15\n"
     ]
    }
   ],
   "source": [
    "Fun2(6,9) #function call"
   ]
  },
  {
   "cell_type": "code",
   "execution_count": 12,
   "id": "b5d47de9",
   "metadata": {},
   "outputs": [],
   "source": [
    "def Fun3(a,b): #Function Definition with parameter and with return type\n",
    "  return a+b #Return the result"
   ]
  },
  {
   "cell_type": "code",
   "execution_count": 13,
   "id": "15cc5b3d",
   "metadata": {},
   "outputs": [
    {
     "name": "stdout",
     "output_type": "stream",
     "text": [
      "14\n"
     ]
    }
   ],
   "source": [
    "Result= Fun3(7,7) #Assigning Result of the function\n",
    "print(Result)  #print the result"
   ]
  },
  {
   "cell_type": "code",
   "execution_count": 14,
   "id": "9b2bca97",
   "metadata": {},
   "outputs": [],
   "source": [
    "def Fun4(): #Function Definition without parameter and with return type\n",
    "  a=10 #value\n",
    "  b=50 #value\n",
    "  return a+b #print"
   ]
  },
  {
   "cell_type": "code",
   "execution_count": 15,
   "id": "f65230e3",
   "metadata": {},
   "outputs": [
    {
     "name": "stdout",
     "output_type": "stream",
     "text": [
      "60\n"
     ]
    }
   ],
   "source": [
    "Result= Fun4() #Assigning Result of the function\n",
    "print(Result) #print the result"
   ]
  },
  {
   "cell_type": "code",
   "execution_count": 16,
   "id": "aa1c9cd4",
   "metadata": {},
   "outputs": [],
   "source": [
    "def Fun5(): \n",
    "  \"\"\" This Function is to add two number\n",
    "  Args: no parameter\n",
    "\n",
    "  Returns:\n",
    "      _type_: Integer\n",
    "  \"\"\"\n",
    "  a=2 #value\n",
    "  b=1 #value\n",
    "  return a+b #print"
   ]
  },
  {
   "cell_type": "code",
   "execution_count": 17,
   "id": "ff11d1de",
   "metadata": {},
   "outputs": [
    {
     "name": "stdout",
     "output_type": "stream",
     "text": [
      "Result  3\n"
     ]
    }
   ],
   "source": [
    "Result= Fun5() #Assigning Result of the function\n",
    "print(\"Result \",Result) #print the result"
   ]
  },
  {
   "cell_type": "code",
   "execution_count": 18,
   "id": "a952c79c",
   "metadata": {},
   "outputs": [],
   "source": [
    "def Fun6(): \n",
    "  \"\"\" This FUnction is to return a name\n",
    "  Args: no parameter\n",
    "\n",
    "  Returns:\n",
    "      _type_: String\n",
    "  \"\"\"\n",
    "  name=input(\"Enter the name: \")\n",
    "  return name #print"
   ]
  },
  {
   "cell_type": "code",
   "execution_count": 19,
   "id": "5909dcbe",
   "metadata": {},
   "outputs": [
    {
     "name": "stdout",
     "output_type": "stream",
     "text": [
      "Name:  Asif\n",
      "Name: Asif\n",
      "Name: Asif\n"
     ]
    }
   ],
   "source": [
    "Name=Fun6()\n",
    "print(\"Name: \",Name) #print the result\n",
    "print(\"Name: \"+Name) #print the result\n",
    "print(f\"Name: {Name}\") #print the result"
   ]
  },
  {
   "cell_type": "code",
   "execution_count": 20,
   "id": "fc268437",
   "metadata": {},
   "outputs": [
    {
     "name": "stdout",
     "output_type": "stream",
     "text": [
      "The value of pi is 3.141592653589793\n"
     ]
    }
   ],
   "source": [
    "from math import pi as p\n",
    "\n",
    "print(\"The value of pi is\", p)"
   ]
  },
  {
   "cell_type": "code",
   "execution_count": 21,
   "id": "24f25671",
   "metadata": {},
   "outputs": [
    {
     "name": "stdout",
     "output_type": "stream",
     "text": [
      "The sine of pi is 1.2246467991473532e-16\n"
     ]
    }
   ],
   "source": [
    "from math import sin, pi\n",
    "\n",
    "print(\"The sine of pi is\", sin(pi))"
   ]
  },
  {
   "cell_type": "code",
   "execution_count": 22,
   "id": "bfb1a307",
   "metadata": {},
   "outputs": [
    {
     "name": "stdout",
     "output_type": "stream",
     "text": [
      "The absolute value of -3 is 3\n",
      "4/3 rounded to two decimal places is 1.33\n"
     ]
    }
   ],
   "source": [
    "print(\"The absolute value of -3 is\", abs(-3))\n",
    "print(\"4/3 rounded to two decimal places is\", round(4/3, 2))"
   ]
  },
  {
   "cell_type": "code",
   "execution_count": 23,
   "id": "f5c1119a",
   "metadata": {},
   "outputs": [
    {
     "name": "stdout",
     "output_type": "stream",
     "text": [
      "2\n"
     ]
    }
   ],
   "source": [
    "from random import randint\n",
    "print(randint(1, 5))\n"
   ]
  },
  {
   "cell_type": "code",
   "execution_count": 29,
   "id": "be24f400",
   "metadata": {},
   "outputs": [
    {
     "name": "stdout",
     "output_type": "stream",
     "text": [
      "GroupA: [11, 21, 1, 23, 27]\n",
      "GroupB: [7, 2, 29, 30, 19]\n",
      "GroupC: [9, 18, 3, 16, 25]\n"
     ]
    }
   ],
   "source": [
    "import random\n",
    "\n",
    "students = list(range(1, 31))\n",
    "random.shuffle(students)\n",
    "\n",
    "group_size = 5\n",
    "num_groups = 6\n",
    "\n",
    "groupA = students[:5]\n",
    "groupB = students[5:10]\n",
    "groupC = students[10:15]\n",
    "# groupD = students[3*group_size:4*group_size]\n",
    "# groupE = students[4*group_size:5*group_size]\n",
    "# groupF = students[5*group_size:]\n",
    "\n",
    "print(\"GroupA:\", groupA)\n",
    "print(\"GroupB:\", groupB)\n",
    "print(\"GroupC:\", groupC)\n",
    "# print(\"GroupD:\", groupD)\n",
    "# print(\"GroupE:\", groupE)\n",
    "# print(\"GroupF:\", groupF)"
   ]
  },
  {
   "cell_type": "code",
   "execution_count": 30,
   "id": "acb16d80",
   "metadata": {},
   "outputs": [
    {
     "name": "stdout",
     "output_type": "stream",
     "text": [
      "Group A: [27, 22, 24, 20, 15]\n",
      "Group B: [3, 28, 7, 16, 1]\n",
      "Group C: [12, 26, 14, 18, 4]\n",
      "Group D: [21, 2, 25, 13, 10]\n",
      "Group E: [11, 9, 17, 5, 8]\n",
      "Group F: [23, 30, 19, 29, 6]\n"
     ]
    }
   ],
   "source": [
    "import random\n",
    "\n",
    "students = list(range(1, 31))\n",
    "random.shuffle(students)\n",
    "\n",
    "group_size = 5\n",
    "num_groups = 6\n",
    "\n",
    "groups = []\n",
    "\n",
    "# Create groups using a loop\n",
    "for i in range(num_groups):\n",
    "    start_index = i * group_size\n",
    "    end_index = start_index + group_size\n",
    "    group = students[start_index:end_index]\n",
    "    groups.append(group)\n",
    "\n",
    "# Print the groups\n",
    "for i, group in enumerate(groups):\n",
    "    print(f\"Group {chr(65+i)}:\", group)\n"
   ]
  },
  {
   "cell_type": "code",
   "execution_count": 4,
   "id": "36ce455b",
   "metadata": {},
   "outputs": [
    {
     "name": "stdout",
     "output_type": "stream",
     "text": [
      "X is 3\n"
     ]
    }
   ],
   "source": [
    "x = int(input(\"Enter a number \"))\n",
    "\n",
    "if x == 3:\n",
    "  print(\"X is 3\")\n",
    "elif(x == 5):\n",
    "  print(\"X is 5\")\n",
    "else:\n",
    "    print(\"X is nither 3 nor 5\")\n"
   ]
  },
  {
   "cell_type": "code",
   "execution_count": 5,
   "id": "ba78a4e8",
   "metadata": {},
   "outputs": [
    {
     "name": "stdout",
     "output_type": "stream",
     "text": [
      "X is not 5\n"
     ]
    }
   ],
   "source": [
    "if x != 5: # if x is not 3\n",
    "    print(\"X is not 5\")"
   ]
  },
  {
   "cell_type": "code",
   "execution_count": 6,
   "id": "1fe9187c",
   "metadata": {},
   "outputs": [
    {
     "name": "stdout",
     "output_type": "stream",
     "text": [
      "X is between 1 and 5\n"
     ]
    }
   ],
   "source": [
    "if (x >= 1 and x <= 5) or x==7: # if x is between 1 and 5\n",
    "    print(\"X is between 1 and 5\")"
   ]
  },
  {
   "cell_type": "code",
   "execution_count": 7,
   "id": "1da3090d",
   "metadata": {},
   "outputs": [
    {
     "name": "stdout",
     "output_type": "stream",
     "text": [
      "X is not 1 nor 2\n"
     ]
    }
   ],
   "source": [
    "if x == 1 or x == 3: # if x is 1 or 2\n",
    "    print(\"X is not 1 nor 2\")"
   ]
  },
  {
   "cell_type": "code",
   "execution_count": 8,
   "id": "9d70bce0",
   "metadata": {},
   "outputs": [
    {
     "name": "stdout",
     "output_type": "stream",
     "text": [
      "kuddus\n"
     ]
    }
   ],
   "source": [
    "name = \"kuddus\"\n",
    "\n",
    "if name == \"kuddus\": # checking strings\n",
    "    print(name)"
   ]
  },
  {
   "cell_type": "code",
   "execution_count": 12,
   "id": "6273338c",
   "metadata": {},
   "outputs": [
    {
     "name": "stdout",
     "output_type": "stream",
     "text": [
      "5 2\n"
     ]
    }
   ],
   "source": [
    "y = 2\n",
    "x=5\n",
    "if (x == 3 or x == 5) and y == 2: # use parens in complicated statements\n",
    "    print(x, y)"
   ]
  },
  {
   "cell_type": "code",
   "execution_count": 18,
   "id": "57f81a06",
   "metadata": {},
   "outputs": [
    {
     "name": "stdout",
     "output_type": "stream",
     "text": [
      "Right\n"
     ]
    }
   ],
   "source": [
    "Original_Number= 7\n",
    "Guess_Number= int(input(\"Enter Your Guessing Number: \"))\n",
    "if Original_Number==Guess_Number:\n",
    "  print(\"Right\")\n",
    "else:\n",
    "  print(\"Wrong\")"
   ]
  },
  {
   "cell_type": "code",
   "execution_count": 19,
   "id": "8f39b38b",
   "metadata": {},
   "outputs": [
    {
     "name": "stdout",
     "output_type": "stream",
     "text": [
      "Your total bill is $50.00\n"
     ]
    }
   ],
   "source": [
    "entry = input(\"Do you have any discount? (yes/no):\")\n",
    "\n",
    "if entry == \"yes\":\n",
    "    print(\"Your total bill is $45.00\")\n",
    "elif entry == \"no\":\n",
    "    print(\"Your total bill is $50.00\")\n",
    "else:\n",
    "    print(\"Invalid entry\")"
   ]
  },
  {
   "cell_type": "code",
   "execution_count": 23,
   "id": "afb259bf",
   "metadata": {},
   "outputs": [
    {
     "name": "stdout",
     "output_type": "stream",
     "text": [
      "2 4 6 8 10 12 14 16 18 20 22 24 26 28 30 32 34 36 38 40 42 44 46 48 "
     ]
    }
   ],
   "source": [
    "for i in range(2,50,2):\n",
    "    print(i, end=\" \")"
   ]
  },
  {
   "cell_type": "code",
   "execution_count": 30,
   "id": "8fe47343",
   "metadata": {},
   "outputs": [
    {
     "name": "stdout",
     "output_type": "stream",
     "text": [
      "100 90 80 70 60 50 40 30 20 10 "
     ]
    }
   ],
   "source": [
    "for i in range(100,1,-5):\n",
    "    if(i%2==0):\n",
    "      print(i, end=\" \")\n",
    "      \n",
    "    \n",
    "    "
   ]
  },
  {
   "cell_type": "code",
   "execution_count": null,
   "id": "79ead81c",
   "metadata": {},
   "outputs": [
    {
     "name": "stdout",
     "output_type": "stream",
     "text": [
      "2 4 6 8 10 12 14 16 18 20 22 24 26 28 30 32 34 36 38 40 42 44 46 48 "
     ]
    }
   ],
   "source": [
    "for i in range(2,50,1):\n",
    "    print(i, end=\" \")"
   ]
  },
  {
   "cell_type": "code",
   "execution_count": 37,
   "id": "f948ed29",
   "metadata": {},
   "outputs": [
    {
     "name": "stdout",
     "output_type": "stream",
     "text": [
      "Vowel:  4\n",
      "Consonent:  4\n"
     ]
    }
   ],
   "source": [
    "Vowel= 0\n",
    "Consonent=0\n",
    "\n",
    "name= \"Asif Asif\"\n",
    "name2= name.lower()\n",
    "# print(name2)\n",
    "\n",
    "for i in range(0, len(name2),1):\n",
    "  \n",
    "  if(name2[i]== \" \"):\n",
    "    continue\n",
    "  elif(name2[i]=='a' or name2[i]=='e' or name2[i]=='i' or name2[i]=='o' or name2[i]=='u'):\n",
    "    Vowel+=1\n",
    "  else:\n",
    "    Consonent+=1\n",
    "    \n",
    "print(\"Vowel: \", Vowel)\n",
    "print(\"Consonent: \", Consonent)"
   ]
  },
  {
   "cell_type": "code",
   "execution_count": 39,
   "id": "0d907bd1",
   "metadata": {},
   "outputs": [
    {
     "name": "stdout",
     "output_type": "stream",
     "text": [
      "4\n"
     ]
    }
   ],
   "source": [
    "ame= \"Asif\"\n",
    "name2= name.lower()\n",
    "print(name2.count('a')+name2.count('e')+name2.count('i')+name2.count('o')+name2.count('u'))"
   ]
  },
  {
   "cell_type": "code",
   "execution_count": 66,
   "id": "8aff4f0e",
   "metadata": {},
   "outputs": [
    {
     "name": "stdout",
     "output_type": "stream",
     "text": [
      "2 6 10 14 18 22 26 30 34 38 42 46 "
     ]
    }
   ],
   "source": [
    "for i in range(2,50,4):\n",
    "    print(i, end=\" \")"
   ]
  },
  {
   "cell_type": "code",
   "execution_count": 71,
   "id": "9b8815b8",
   "metadata": {},
   "outputs": [
    {
     "name": "stdout",
     "output_type": "stream",
     "text": [
      "Your guess is High\n",
      "Your guess is High\n",
      "You guess it right with 3 time\n"
     ]
    }
   ],
   "source": [
    "# TODO\n",
    "from random import randint\n",
    "number = randint(1,10)\n",
    "cnt = 0\n",
    "while True:\n",
    "    guess = int(input(\"Please guess the number from 1-10: \"))\n",
    "    cnt += 1\n",
    "    if (guess == number):\n",
    "        print(f\"You guess it right with {cnt} time\")\n",
    "        break\n",
    "    elif(guess < number):\n",
    "        print(\"Your guess is low\")\n",
    "    else:\n",
    "        print(\"Your guess is High\")\n"
   ]
  },
  {
   "cell_type": "code",
   "execution_count": null,
   "id": "40c3f7fe",
   "metadata": {},
   "outputs": [],
   "source": []
  }
 ],
 "metadata": {
  "kernelspec": {
   "display_name": ".venv",
   "language": "python",
   "name": "python3"
  },
  "language_info": {
   "codemirror_mode": {
    "name": "ipython",
    "version": 3
   },
   "file_extension": ".py",
   "mimetype": "text/x-python",
   "name": "python",
   "nbconvert_exporter": "python",
   "pygments_lexer": "ipython3",
   "version": "3.12.10"
  }
 },
 "nbformat": 4,
 "nbformat_minor": 5
}
